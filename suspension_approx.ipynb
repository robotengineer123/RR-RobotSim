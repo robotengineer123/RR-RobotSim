{
 "cells": [
  {
   "cell_type": "code",
   "execution_count": 1,
   "metadata": {},
   "outputs": [],
   "source": [
    "import numpy as np"
   ]
  },
  {
   "cell_type": "code",
   "execution_count": 3,
   "metadata": {},
   "outputs": [
    {
     "data": {
      "text/plain": [
       "array(-41.09256931)"
      ]
     },
     "execution_count": 3,
     "metadata": {},
     "output_type": "execute_result"
    }
   ],
   "source": [
    "force_dir = np.array([134.46, 50.2942])\n",
    "force_dir = force_dir/np.linalg.norm(force_dir)\n",
    "arm = np.array([19.84, 51.2942])\n",
    "torque = np.cross(arm, force_dir)\n",
    "torque"
   ]
  },
  {
   "cell_type": "code",
   "execution_count": 5,
   "metadata": {},
   "outputs": [
    {
     "data": {
      "text/plain": [
       "-289.70261363831025"
      ]
     },
     "execution_count": 5,
     "metadata": {},
     "output_type": "execute_result"
    }
   ],
   "source": [
    "torque*7050/1000"
   ]
  },
  {
   "cell_type": "code",
   "execution_count": 7,
   "metadata": {},
   "outputs": [
    {
     "data": {
      "text/plain": [
       "92.63000000000001"
      ]
     },
     "execution_count": 7,
     "metadata": {},
     "output_type": "execute_result"
    }
   ],
   "source": [
    "119.68-27.05"
   ]
  },
  {
   "cell_type": "code",
   "execution_count": 8,
   "metadata": {},
   "outputs": [
    {
     "data": {
      "text/plain": [
       "array(-104.78027915)"
      ]
     },
     "execution_count": 8,
     "metadata": {},
     "output_type": "execute_result"
    }
   ],
   "source": [
    "force_dir = np.array([64.32, -94.88])\n",
    "force_dir = force_dir/np.linalg.norm(force_dir)\n",
    "arm = np.array([108.25, 27.05])\n",
    "torque = np.cross(arm, force_dir)\n",
    "torque"
   ]
  },
  {
   "cell_type": "code",
   "execution_count": 9,
   "metadata": {},
   "outputs": [
    {
     "data": {
      "text/plain": [
       "-738.7009679955297"
      ]
     },
     "execution_count": 9,
     "metadata": {},
     "output_type": "execute_result"
    }
   ],
   "source": [
    "torque*7050/1000"
   ]
  },
  {
   "cell_type": "code",
   "execution_count": 3,
   "metadata": {},
   "outputs": [],
   "source": [
    "import sympy as sp"
   ]
  },
  {
   "cell_type": "code",
   "execution_count": 18,
   "metadata": {},
   "outputs": [
    {
     "data": {
      "text/latex": [
       "$\\displaystyle \\left[\\begin{matrix}AC \\cos{\\left(\\theta \\right)} - d\\\\AC \\sin{\\left(\\theta \\right)}\\end{matrix}\\right]$"
      ],
      "text/plain": [
       "Matrix([\n",
       "[AC*cos(theta) - d],\n",
       "[    AC*sin(theta)]])"
      ]
     },
     "execution_count": 18,
     "metadata": {},
     "output_type": "execute_result"
    }
   ],
   "source": [
    "AC, AB, BC, k, theta, lref, d = sp.symbols(\"AC, AB, BC, k, theta, lref, d\")\n",
    "AC_vec = AC*sp.Matrix([sp.cos(theta), sp.sin(theta)])\n",
    "BC_vec = AC_vec - sp.Matrix([d, 0])\n",
    "BC_vec"
   ]
  },
  {
   "cell_type": "code",
   "execution_count": 19,
   "metadata": {},
   "outputs": [
    {
     "data": {
      "text/latex": [
       "$\\displaystyle \\left[\\begin{matrix}\\frac{k \\left(- BC + lref\\right) \\left(AC \\cos{\\left(\\theta \\right)} - d\\right)}{BC}\\\\\\frac{AC k \\left(- BC + lref\\right) \\sin{\\left(\\theta \\right)}}{BC}\\end{matrix}\\right]$"
      ],
      "text/plain": [
       "Matrix([\n",
       "[k*(-BC + lref)*(AC*cos(theta) - d)/BC],\n",
       "[      AC*k*(-BC + lref)*sin(theta)/BC]])"
      ]
     },
     "execution_count": 19,
     "metadata": {},
     "output_type": "execute_result"
    }
   ],
   "source": [
    "fspring = BC_vec/BC*k*(lref - BC)\n",
    "fspring"
   ]
  },
  {
   "cell_type": "code",
   "execution_count": 22,
   "metadata": {},
   "outputs": [
    {
     "data": {
      "text/plain": [
       "'\\\\frac{AC d k \\\\left(- BC + lref\\\\right) \\\\sin{\\\\left(\\\\theta \\\\right)}}{BC}'"
      ]
     },
     "execution_count": 22,
     "metadata": {},
     "output_type": "execute_result"
    }
   ],
   "source": [
    "tau = AC_vec.row_insert(2, sp.Matrix([0])).cross(fspring.row_insert(2, sp.Matrix([0])))\n",
    "sp.latex(tau[2].simplify())"
   ]
  },
  {
   "cell_type": "code",
   "execution_count": 15,
   "metadata": {},
   "outputs": [
    {
     "data": {
      "text/latex": [
       "$\\displaystyle \\left[\\begin{matrix}AC \\cos{\\left(\\theta \\right)}\\\\AC \\sin{\\left(\\theta \\right)}\\\\0\\end{matrix}\\right]$"
      ],
      "text/plain": [
       "Matrix([\n",
       "[AC*cos(theta)],\n",
       "[AC*sin(theta)],\n",
       "[            0]])"
      ]
     },
     "execution_count": 15,
     "metadata": {},
     "output_type": "execute_result"
    }
   ],
   "source": [
    "AC_vec.row_insert(2, sp.Matrix([0]))"
   ]
  },
  {
   "cell_type": "code",
   "execution_count": 7,
   "metadata": {},
   "outputs": [
    {
     "data": {
      "text/latex": [
       "$\\displaystyle \\left[\\begin{matrix}\\frac{AC \\cos{\\left(\\theta \\right)} - d}{\\sqrt{\\left|{AC \\sin{\\left(\\theta \\right)}}\\right|^{2} + \\left|{AC \\cos{\\left(\\theta \\right)} - d}\\right|^{2}}}\\\\\\frac{AC \\sin{\\left(\\theta \\right)}}{\\sqrt{\\left|{AC \\sin{\\left(\\theta \\right)}}\\right|^{2} + \\left|{AC \\cos{\\left(\\theta \\right)} - d}\\right|^{2}}}\\end{matrix}\\right]$"
      ],
      "text/plain": [
       "Matrix([\n",
       "[(AC*cos(theta) - d)/sqrt(Abs(AC*sin(theta))**2 + Abs(AC*cos(theta) - d)**2)],\n",
       "[      AC*sin(theta)/sqrt(Abs(AC*sin(theta))**2 + Abs(AC*cos(theta) - d)**2)]])"
      ]
     },
     "execution_count": 7,
     "metadata": {},
     "output_type": "execute_result"
    }
   ],
   "source": [
    "BC_vec/BC_vec.norm()"
   ]
  }
 ],
 "metadata": {
  "kernelspec": {
   "display_name": "Python 3",
   "language": "python",
   "name": "python3"
  },
  "language_info": {
   "codemirror_mode": {
    "name": "ipython",
    "version": 3
   },
   "file_extension": ".py",
   "mimetype": "text/x-python",
   "name": "python",
   "nbconvert_exporter": "python",
   "pygments_lexer": "ipython3",
   "version": "3.8.10"
  },
  "orig_nbformat": 4,
  "vscode": {
   "interpreter": {
    "hash": "916dbcbb3f70747c44a77c7bcd40155683ae19c65e1c03b4aa3499c5328201f1"
   }
  }
 },
 "nbformat": 4,
 "nbformat_minor": 2
}
