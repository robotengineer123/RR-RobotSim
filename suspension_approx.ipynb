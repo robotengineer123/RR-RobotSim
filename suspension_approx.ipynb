{
 "cells": [
  {
   "cell_type": "code",
   "execution_count": 92,
   "metadata": {},
   "outputs": [],
   "source": [
    "import numpy as np"
   ]
  },
  {
   "cell_type": "code",
   "execution_count": 93,
   "metadata": {},
   "outputs": [
    {
     "data": {
      "text/plain": [
       "array(-41.09256931)"
      ]
     },
     "execution_count": 93,
     "metadata": {},
     "output_type": "execute_result"
    }
   ],
   "source": [
    "force_dir = np.array([134.46, 50.2942])\n",
    "force_dir = force_dir/np.linalg.norm(force_dir)\n",
    "arm = np.array([19.84, 51.2942])\n",
    "torque = np.cross(arm, force_dir)\n",
    "torque"
   ]
  },
  {
   "cell_type": "code",
   "execution_count": 94,
   "metadata": {},
   "outputs": [
    {
     "data": {
      "text/plain": [
       "-289.70261363831025"
      ]
     },
     "execution_count": 94,
     "metadata": {},
     "output_type": "execute_result"
    }
   ],
   "source": [
    "torque*7050/1000"
   ]
  },
  {
   "cell_type": "code",
   "execution_count": 95,
   "metadata": {},
   "outputs": [
    {
     "data": {
      "text/plain": [
       "92.63000000000001"
      ]
     },
     "execution_count": 95,
     "metadata": {},
     "output_type": "execute_result"
    }
   ],
   "source": [
    "119.68-27.05"
   ]
  },
  {
   "cell_type": "code",
   "execution_count": 96,
   "metadata": {},
   "outputs": [
    {
     "data": {
      "text/plain": [
       "array(-104.78027915)"
      ]
     },
     "execution_count": 96,
     "metadata": {},
     "output_type": "execute_result"
    }
   ],
   "source": [
    "force_dir = np.array([64.32, -94.88])\n",
    "force_dir = force_dir/np.linalg.norm(force_dir)\n",
    "arm = np.array([108.25, 27.05])\n",
    "torque = np.cross(arm, force_dir)\n",
    "torque"
   ]
  },
  {
   "cell_type": "code",
   "execution_count": 97,
   "metadata": {},
   "outputs": [
    {
     "data": {
      "text/plain": [
       "-738.7009679955297"
      ]
     },
     "execution_count": 97,
     "metadata": {},
     "output_type": "execute_result"
    }
   ],
   "source": [
    "torque*7050/1000"
   ]
  },
  {
   "cell_type": "code",
   "execution_count": 98,
   "metadata": {},
   "outputs": [],
   "source": [
    "import sympy as sp"
   ]
  },
  {
   "cell_type": "code",
   "execution_count": 99,
   "metadata": {},
   "outputs": [],
   "source": [
    "AC, AB, k, theta, thetaref, lref, d = sp.symbols(r\"AC, AB, k, \\theta, \\theta_{ref}, l_{ref}, d\", Positive=True)\n",
    "BC = sp.Function(\"BC\")(theta)\n",
    "AC_vec = AC*sp.Matrix([sp.cos(theta+thetaref), sp.sin(theta+thetaref)])\n",
    "BC_vec = AC_vec - sp.Matrix([d, 0])\n",
    "BCn = sp.sqrt(AC**2 + d**2 + 2*AC*d*sp.cos(theta + thetaref))\n",
    "dBC = BCn.diff(theta)"
   ]
  },
  {
   "cell_type": "code",
   "execution_count": 100,
   "metadata": {},
   "outputs": [
    {
     "data": {
      "text/latex": [
       "$\\displaystyle \\left[\\begin{matrix}\\frac{k \\left(- l_{ref} + \\operatorname{BC}{\\left(\\theta \\right)}\\right) \\left(AC \\cos{\\left(\\theta + \\theta_{ref} \\right)} - d\\right)}{\\operatorname{BC}{\\left(\\theta \\right)}}\\\\\\frac{AC k \\left(- l_{ref} + \\operatorname{BC}{\\left(\\theta \\right)}\\right) \\sin{\\left(\\theta + \\theta_{ref} \\right)}}{\\operatorname{BC}{\\left(\\theta \\right)}}\\end{matrix}\\right]$"
      ],
      "text/plain": [
       "Matrix([\n",
       "[k*(-l_{ref} + BC(\\theta))*(AC*cos(\\theta + \\theta_{ref}) - d)/BC(\\theta)],\n",
       "[      AC*k*(-l_{ref} + BC(\\theta))*sin(\\theta + \\theta_{ref})/BC(\\theta)]])"
      ]
     },
     "execution_count": 100,
     "metadata": {},
     "output_type": "execute_result"
    }
   ],
   "source": [
    "fspring = BC_vec/BC*k*(BC - lref)\n",
    "fspring"
   ]
  },
  {
   "cell_type": "code",
   "execution_count": 101,
   "metadata": {},
   "outputs": [],
   "source": [
    "tau = AC_vec.row_insert(2, sp.Matrix([0])).cross(fspring.row_insert(2, sp.Matrix([0])))"
   ]
  },
  {
   "cell_type": "code",
   "execution_count": 102,
   "metadata": {},
   "outputs": [
    {
     "data": {
      "text/latex": [
       "$\\displaystyle \\frac{AC d k \\left(- l_{ref} + \\operatorname{BC}{\\left(\\theta \\right)}\\right) \\sin{\\left(\\theta + \\theta_{ref} \\right)}}{\\operatorname{BC}{\\left(\\theta \\right)}}$"
      ],
      "text/plain": [
       "AC*d*k*(-l_{ref} + BC(\\theta))*sin(\\theta + \\theta_{ref})/BC(\\theta)"
      ]
     },
     "execution_count": 102,
     "metadata": {},
     "output_type": "execute_result"
    }
   ],
   "source": [
    "tau[2].simplify()"
   ]
  },
  {
   "cell_type": "code",
   "execution_count": 106,
   "metadata": {},
   "outputs": [
    {
     "data": {
      "text/latex": [
       "$\\displaystyle \\frac{AC d k \\left(- l_{ref} \\operatorname{BC}{\\left(\\theta \\right)} \\cos{\\left(\\theta + \\theta_{ref} \\right)} + l_{ref} \\sin{\\left(\\theta + \\theta_{ref} \\right)} \\frac{d}{d \\theta} \\operatorname{BC}{\\left(\\theta \\right)} + \\operatorname{BC}^{2}{\\left(\\theta \\right)} \\cos{\\left(\\theta + \\theta_{ref} \\right)}\\right)}{\\operatorname{BC}^{2}{\\left(\\theta \\right)}}$"
      ],
      "text/plain": [
       "AC*d*k*(-l_{ref}*BC(\\theta)*cos(\\theta + \\theta_{ref}) + l_{ref}*sin(\\theta + \\theta_{ref})*Derivative(BC(\\theta), \\theta) + BC(\\theta)**2*cos(\\theta + \\theta_{ref}))/BC(\\theta)**2"
      ]
     },
     "execution_count": 106,
     "metadata": {},
     "output_type": "execute_result"
    }
   ],
   "source": [
    "dtau = tau[2].diff(theta).simplify()\n",
    "dtau"
   ]
  },
  {
   "cell_type": "code",
   "execution_count": 109,
   "metadata": {},
   "outputs": [
    {
     "data": {
      "text/latex": [
       "$\\displaystyle - \\frac{AC d \\sin{\\left(\\theta_{ref} \\right)}}{\\sqrt{AC^{2} + 2 AC d \\cos{\\left(\\theta_{ref} \\right)} + d^{2}}}$"
      ],
      "text/plain": [
       "-AC*d*sin(\\theta_{ref})/sqrt(AC**2 + 2*AC*d*cos(\\theta_{ref}) + d**2)"
      ]
     },
     "execution_count": 109,
     "metadata": {},
     "output_type": "execute_result"
    }
   ],
   "source": [
    "dBC.subs({theta: 0})"
   ]
  }
 ],
 "metadata": {
  "kernelspec": {
   "display_name": "Python 3",
   "language": "python",
   "name": "python3"
  },
  "language_info": {
   "codemirror_mode": {
    "name": "ipython",
    "version": 3
   },
   "file_extension": ".py",
   "mimetype": "text/x-python",
   "name": "python",
   "nbconvert_exporter": "python",
   "pygments_lexer": "ipython3",
   "version": "3.8.10"
  },
  "orig_nbformat": 4,
  "vscode": {
   "interpreter": {
    "hash": "916dbcbb3f70747c44a77c7bcd40155683ae19c65e1c03b4aa3499c5328201f1"
   }
  }
 },
 "nbformat": 4,
 "nbformat_minor": 2
}
