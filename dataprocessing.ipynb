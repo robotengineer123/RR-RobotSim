{
 "cells": [
  {
   "cell_type": "code",
   "execution_count": 1,
   "metadata": {},
   "outputs": [],
   "source": [
    "import numpy as np\n",
    "import bagpy\n",
    "from bagpy import bagreader\n",
    "import pandas as pd"
   ]
  },
  {
   "cell_type": "code",
   "execution_count": 2,
   "metadata": {},
   "outputs": [
    {
     "name": "stdout",
     "output_type": "stream",
     "text": [
      "[INFO]  Successfully created the data folder secondary_2023-02-23-11-45-48_0.\n",
      "No data on the topic:/vehicle/front_laser_points\n"
     ]
    },
    {
     "ename": "ValueError",
     "evalue": "Invalid file path or buffer object type: <class 'NoneType'>",
     "output_type": "error",
     "traceback": [
      "\u001b[0;31m---------------------------------------------------------------------------\u001b[0m",
      "\u001b[0;31mValueError\u001b[0m                                Traceback (most recent call last)",
      "Cell \u001b[0;32mIn[2], line 6\u001b[0m\n\u001b[1;32m      4\u001b[0m LASER_MSG \u001b[39m=\u001b[39m b\u001b[39m.\u001b[39mmessage_by_topic(\u001b[39m'\u001b[39m\u001b[39m/vehicle/front_laser_points\u001b[39m\u001b[39m'\u001b[39m)\n\u001b[1;32m      5\u001b[0m LASER_MSG\n\u001b[0;32m----> 6\u001b[0m df_laser \u001b[39m=\u001b[39m pd\u001b[39m.\u001b[39;49mread_csv(LASER_MSG)\n\u001b[1;32m      7\u001b[0m df_laser \u001b[39m# prints laser data in the form of pandas dataframe\u001b[39;00m\n",
      "File \u001b[0;32m~/.local/lib/python3.8/site-packages/pandas/io/parsers.py:688\u001b[0m, in \u001b[0;36mread_csv\u001b[0;34m(filepath_or_buffer, sep, delimiter, header, names, index_col, usecols, squeeze, prefix, mangle_dupe_cols, dtype, engine, converters, true_values, false_values, skipinitialspace, skiprows, skipfooter, nrows, na_values, keep_default_na, na_filter, verbose, skip_blank_lines, parse_dates, infer_datetime_format, keep_date_col, date_parser, dayfirst, cache_dates, iterator, chunksize, compression, thousands, decimal, lineterminator, quotechar, quoting, doublequote, escapechar, comment, encoding, dialect, error_bad_lines, warn_bad_lines, delim_whitespace, low_memory, memory_map, float_precision)\u001b[0m\n\u001b[1;32m    635\u001b[0m     engine_specified \u001b[39m=\u001b[39m \u001b[39mFalse\u001b[39;00m\n\u001b[1;32m    637\u001b[0m kwds\u001b[39m.\u001b[39mupdate(\n\u001b[1;32m    638\u001b[0m     delimiter\u001b[39m=\u001b[39mdelimiter,\n\u001b[1;32m    639\u001b[0m     engine\u001b[39m=\u001b[39mengine,\n\u001b[0;32m   (...)\u001b[0m\n\u001b[1;32m    685\u001b[0m     skip_blank_lines\u001b[39m=\u001b[39mskip_blank_lines,\n\u001b[1;32m    686\u001b[0m )\n\u001b[0;32m--> 688\u001b[0m \u001b[39mreturn\u001b[39;00m _read(filepath_or_buffer, kwds)\n",
      "File \u001b[0;32m~/.local/lib/python3.8/site-packages/pandas/io/parsers.py:436\u001b[0m, in \u001b[0;36m_read\u001b[0;34m(filepath_or_buffer, kwds)\u001b[0m\n\u001b[1;32m    430\u001b[0m compression \u001b[39m=\u001b[39m infer_compression(filepath_or_buffer, compression)\n\u001b[1;32m    432\u001b[0m \u001b[39m# TODO: get_filepath_or_buffer could return\u001b[39;00m\n\u001b[1;32m    433\u001b[0m \u001b[39m# Union[FilePathOrBuffer, s3fs.S3File, gcsfs.GCSFile]\u001b[39;00m\n\u001b[1;32m    434\u001b[0m \u001b[39m# though mypy handling of conditional imports is difficult.\u001b[39;00m\n\u001b[1;32m    435\u001b[0m \u001b[39m# See https://github.com/python/mypy/issues/1297\u001b[39;00m\n\u001b[0;32m--> 436\u001b[0m fp_or_buf, _, compression, should_close \u001b[39m=\u001b[39m get_filepath_or_buffer(\n\u001b[1;32m    437\u001b[0m     filepath_or_buffer, encoding, compression\n\u001b[1;32m    438\u001b[0m )\n\u001b[1;32m    439\u001b[0m kwds[\u001b[39m\"\u001b[39m\u001b[39mcompression\u001b[39m\u001b[39m\"\u001b[39m] \u001b[39m=\u001b[39m compression\n\u001b[1;32m    441\u001b[0m \u001b[39mif\u001b[39;00m kwds\u001b[39m.\u001b[39mget(\u001b[39m\"\u001b[39m\u001b[39mdate_parser\u001b[39m\u001b[39m\"\u001b[39m, \u001b[39mNone\u001b[39;00m) \u001b[39mis\u001b[39;00m \u001b[39mnot\u001b[39;00m \u001b[39mNone\u001b[39;00m:\n",
      "File \u001b[0;32m~/.local/lib/python3.8/site-packages/pandas/io/common.py:243\u001b[0m, in \u001b[0;36mget_filepath_or_buffer\u001b[0;34m(filepath_or_buffer, encoding, compression, mode, storage_options)\u001b[0m\n\u001b[1;32m    241\u001b[0m \u001b[39mif\u001b[39;00m \u001b[39mnot\u001b[39;00m is_file_like(filepath_or_buffer):\n\u001b[1;32m    242\u001b[0m     msg \u001b[39m=\u001b[39m \u001b[39mf\u001b[39m\u001b[39m\"\u001b[39m\u001b[39mInvalid file path or buffer object type: \u001b[39m\u001b[39m{\u001b[39;00m\u001b[39mtype\u001b[39m(filepath_or_buffer)\u001b[39m}\u001b[39;00m\u001b[39m\"\u001b[39m\n\u001b[0;32m--> 243\u001b[0m     \u001b[39mraise\u001b[39;00m \u001b[39mValueError\u001b[39;00m(msg)\n\u001b[1;32m    245\u001b[0m \u001b[39mreturn\u001b[39;00m filepath_or_buffer, \u001b[39mNone\u001b[39;00m, compression, \u001b[39mFalse\u001b[39;00m\n",
      "\u001b[0;31mValueError\u001b[0m: Invalid file path or buffer object type: <class 'NoneType'>"
     ]
    }
   ],
   "source": [
    "b = bagreader('secondary_2023-02-23-11-45-48_0.bag')\n",
    "\n",
    "# replace the topic name as per your need\n",
    "LASER_MSG = b.message_by_topic('/rr_robot/odom')\n",
    "LASER_MSG\n",
    "df_laser = pd.read_csv(LASER_MSG)\n",
    "df_laser # prints laser data in the form of pandas dataframe"
   ]
  }
 ],
 "metadata": {
  "kernelspec": {
   "display_name": "Python 3",
   "language": "python",
   "name": "python3"
  },
  "language_info": {
   "codemirror_mode": {
    "name": "ipython",
    "version": 3
   },
   "file_extension": ".py",
   "mimetype": "text/x-python",
   "name": "python",
   "nbconvert_exporter": "python",
   "pygments_lexer": "ipython3",
   "version": "3.8.10"
  },
  "orig_nbformat": 4
 },
 "nbformat": 4,
 "nbformat_minor": 2
}
