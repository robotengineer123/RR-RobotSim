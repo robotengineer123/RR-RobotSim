{
 "cells": [
  {
   "cell_type": "code",
   "execution_count": 15,
   "metadata": {},
   "outputs": [],
   "source": [
    "import numpy as np"
   ]
  },
  {
   "cell_type": "code",
   "execution_count": 16,
   "metadata": {},
   "outputs": [],
   "source": [
    "d = np.array([0.1807, 0, 0, 0.17415, 0.11985, 0.11655])\n",
    "r = np.array([0, -0.6127, -0.57155, 0, 0, 0])\n",
    "alpha = np.array([np.pi/2, 0, 0, np.pi/2, -np.pi/2, 0])"
   ]
  },
  {
   "cell_type": "code",
   "execution_count": 17,
   "metadata": {},
   "outputs": [],
   "source": [
    "def T(d, theta, r, alpha):\n",
    "    return np.array([\n",
    "        [np.cos(theta), -np.sin(theta)*np.cos(alpha), np.sin(theta)*np.sin(alpha), r*np.cos(theta)],\n",
    "        [np.sin(theta), np.cos(theta)*np.cos(alpha), -np.cos(theta)*np.sin(alpha), r*np.sin(theta)],\n",
    "        [0, np.sin(alpha), np.cos(alpha), d],\n",
    "        [0, 0, 0, 1]])\n",
    "\n",
    "def W(omega, v):\n",
    "    return np.array([\n",
    "        [0, -omega[2], omega[1], v[0]],\n",
    "        [omega[2], 0, -omega[0], v[1]],\n",
    "        [-omega[1], omega[0], 0, v[2]],\n",
    "        [0, 0, 0]])"
   ]
  },
  {
   "cell_type": "code",
   "execution_count": 29,
   "metadata": {},
   "outputs": [
    {
     "data": {
      "text/plain": [
       "array([-1.18425, -0.2907 ,  0.06085,  1.     ])"
      ]
     },
     "execution_count": 29,
     "metadata": {},
     "output_type": "execute_result"
    }
   ],
   "source": [
    "p = np.eye(4)\n",
    "for i in range(len(d)):\n",
    "    p = p@T(d[i], 0, r[i], alpha[i])\n",
    "p@np.array([0, 0, 0, 1])"
   ]
  }
 ],
 "metadata": {
  "kernelspec": {
   "display_name": "Python 3",
   "language": "python",
   "name": "python3"
  },
  "language_info": {
   "codemirror_mode": {
    "name": "ipython",
    "version": 3
   },
   "file_extension": ".py",
   "mimetype": "text/x-python",
   "name": "python",
   "nbconvert_exporter": "python",
   "pygments_lexer": "ipython3",
   "version": "3.8.10"
  },
  "orig_nbformat": 4
 },
 "nbformat": 4,
 "nbformat_minor": 2
}
